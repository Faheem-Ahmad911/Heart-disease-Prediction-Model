{
 "cells": [
  {
   "cell_type": "markdown",
   "id": "4a4cad59",
   "metadata": {},
   "source": [
    " \n",
    "### Description\n",
    "\n",
    "![heart_disease.png](https://indigodergisi.com/wp-content/uploads/2018/10/kalp-damar-belirti.jpg)\n",
    "\n",
    "Heart disease accounts for about a third of all that worldwide in people over thirthy five years.\n",
    "\n",
    "But this is a result of atherosclerosis, which consists in the narrowind of the blood pressures and ending up with war, in some cases, heart disease can completely block the inflow of oxygen rich blood to the heart muscle, causing a heart attack.\n",
    "\n",
    "Heart disease is caused by an accumuluation of plastic deposes on the inner workings of the arteries. These deposits are cholesterol check,calcium and other substances that can travel in the blood, the product of their accumulation is called atherosclerotic fly.\n",
    "\n",
    "This blood can block the current calombaris artery and metabolism and irregular, causing the so-called hardening of the arteries or cross causes.\n",
    "\n",
    "The obstruction can be a single on one table and prevent previous level of gravity in different locations.\n",
    "\n",
    "Gradually, the deposits restrict the Luman of the coronary artery, thus reducing the supply of blood and oxygen to the heart muscle distribution. \n",
    "\n",
    "This reduction in blood flow can cause has been difficult in practice, and that's why a complete obstruction can induce a heart attack.\n",
    "\n",
    "**AJ Roughie** is a diagnostic representation of the blood or lymphatic vessels of the human body through a technique that involves the infusion of a water soluble contrast agent within the vessels and the generation of medical imaging to biomedical imaging techniques.\n",
    "\n",
    "--- \n",
    "**Project Aim:**\n",
    "\n",
    "So in this project, we will try to predict the condition of her disease throughout a classification algorithm based on a neural network.\n",
    "\n"
   ]
  },
  {
   "cell_type": "markdown",
   "id": "49f5da5c",
   "metadata": {},
   "source": [
    "# Machine Learning Classification Script (Random Forest & Logistic Regression)\n",
    "\n",
    "This script demonstrates a classification pipeline using Python libraries such as `pandas`, `scikit-learn`, and `matplotlib`. It includes data preprocessing, model training, and evaluation using Random Forest and Logistic Regression classifiers.\n",
    "\n",
    "##  Importing Required Libraries\n"
   ]
  },
  {
   "cell_type": "code",
   "execution_count": 1,
   "id": "b4a5c2fb",
   "metadata": {},
   "outputs": [],
   "source": [
    "import pandas as pd\n",
    "import numpy as np\n",
    "from sklearn.model_selection import train_test_split, cross_val_score\n",
    "from sklearn.preprocessing import StandardScaler\n",
    "from sklearn.ensemble import RandomForestClassifier\n",
    "from sklearn.linear_model import LogisticRegression\n",
    "from sklearn.metrics import accuracy_score, classification_report, confusion_matrix\n",
    "import matplotlib.pyplot as plt\n",
    "import seaborn as sns"
   ]
  },
  {
   "cell_type": "code",
   "execution_count": 2,
   "id": "054ea45b",
   "metadata": {},
   "outputs": [],
   "source": [
    "# Load data\n",
    "data = pd.read_csv('heart_data.csv')\n"
   ]
  },
  {
   "cell_type": "markdown",
   "id": "743e6643",
   "metadata": {},
   "source": [
    "# Handling Missing Data"
   ]
  },
  {
   "cell_type": "code",
   "execution_count": 3,
   "id": "23769ddc",
   "metadata": {},
   "outputs": [],
   "source": [
    "# Replace \"?\" with NaN and drop rows with missing values\n",
    "data = data.replace(\"?\", np.nan)\n",
    "data = data.dropna()"
   ]
  },
  {
   "cell_type": "code",
   "execution_count": 4,
   "id": "931edbb1",
   "metadata": {},
   "outputs": [],
   "source": [
    "# Convert all columns to numeric\n",
    "data = data.apply(pd.to_numeric)"
   ]
  },
  {
   "cell_type": "code",
   "execution_count": 5,
   "id": "eee2ff69",
   "metadata": {},
   "outputs": [],
   "source": [
    "# Separate features and target\n",
    "X = data.drop(columns=[\"target\"])\n",
    "y = data[\"target\"]\n"
   ]
  },
  {
   "cell_type": "code",
   "execution_count": 6,
   "id": "5a94a6ef",
   "metadata": {},
   "outputs": [
    {
     "name": "stdout",
     "output_type": "stream",
     "text": [
      "Class distribution:\n",
      " target\n",
      "1    526\n",
      "0    499\n",
      "Name: count, dtype: int64\n"
     ]
    }
   ],
   "source": [
    "# Check class distribution\n",
    "print(\"Class distribution:\\n\", y.value_counts())\n"
   ]
  },
  {
   "cell_type": "code",
   "execution_count": 7,
   "id": "8cd675d7",
   "metadata": {},
   "outputs": [],
   "source": [
    "# Scale features\n",
    "scaler = StandardScaler()\n",
    "X_scaled = scaler.fit_transform(X)"
   ]
  },
  {
   "cell_type": "code",
   "execution_count": 8,
   "id": "8a8638b3",
   "metadata": {},
   "outputs": [],
   "source": [
    "# Split data\n",
    "X_train, X_test, y_train, y_test = train_test_split(\n",
    "    X_scaled, y, test_size=0.3, random_state=42, stratify=y\n",
    ")"
   ]
  },
  {
   "cell_type": "code",
   "execution_count": 9,
   "id": "fb8fcc88",
   "metadata": {},
   "outputs": [],
   "source": [
    "\n",
    "# --- Random Forest Model ---\n",
    "rf_model = RandomForestClassifier(n_estimators=100, random_state=42)\n",
    "rf_model.fit(X_train, y_train)\n",
    "y_pred_rf = rf_model.predict(X_test)"
   ]
  },
  {
   "cell_type": "code",
   "execution_count": 10,
   "id": "62dc6938",
   "metadata": {},
   "outputs": [
    {
     "name": "stdout",
     "output_type": "stream",
     "text": [
      "\n",
      "--- Random Forest Results ---\n",
      "Accuracy: 0.9903\n",
      "Classification Report:\n",
      "               precision    recall  f1-score   support\n",
      "\n",
      "           0       0.98      1.00      0.99       150\n",
      "           1       1.00      0.98      0.99       158\n",
      "\n",
      "    accuracy                           0.99       308\n",
      "   macro avg       0.99      0.99      0.99       308\n",
      "weighted avg       0.99      0.99      0.99       308\n",
      "\n",
      "Confusion Matrix:\n",
      " [[150   0]\n",
      " [  3 155]]\n"
     ]
    }
   ],
   "source": [
    "print(\"\\n--- Random Forest Results ---\")\n",
    "print(f\"Accuracy: {accuracy_score(y_test, y_pred_rf):.4f}\")\n",
    "print(\"Classification Report:\\n\", classification_report(y_test, y_pred_rf))\n",
    "print(\"Confusion Matrix:\\n\", confusion_matrix(y_test, y_pred_rf))"
   ]
  },
  {
   "cell_type": "code",
   "execution_count": 11,
   "id": "bd3af861",
   "metadata": {},
   "outputs": [],
   "source": [
    "# --- Logistic Regression Model ---\n",
    "log_model = LogisticRegression(max_iter=1000)\n",
    "log_model.fit(X_train, y_train)\n",
    "y_pred_log = log_model.predict(X_test)"
   ]
  },
  {
   "cell_type": "code",
   "execution_count": 12,
   "id": "0665f484",
   "metadata": {},
   "outputs": [
    {
     "name": "stdout",
     "output_type": "stream",
     "text": [
      "\n",
      "--- Logistic Regression Results ---\n",
      "Accuracy: 0.8182\n",
      "Classification Report:\n",
      "               precision    recall  f1-score   support\n",
      "\n",
      "           0       0.87      0.74      0.80       150\n",
      "           1       0.78      0.89      0.83       158\n",
      "\n",
      "    accuracy                           0.82       308\n",
      "   macro avg       0.83      0.82      0.82       308\n",
      "weighted avg       0.82      0.82      0.82       308\n",
      "\n",
      "Confusion Matrix:\n",
      " [[111  39]\n",
      " [ 17 141]]\n"
     ]
    }
   ],
   "source": [
    "print(\"\\n--- Logistic Regression Results ---\")\n",
    "print(f\"Accuracy: {accuracy_score(y_test, y_pred_log):.4f}\")\n",
    "print(\"Classification Report:\\n\", classification_report(y_test, y_pred_log))\n",
    "print(\"Confusion Matrix:\\n\", confusion_matrix(y_test, y_pred_log))\n"
   ]
  },
  {
   "cell_type": "code",
   "execution_count": 13,
   "metadata": {},
   "outputs": [],
   "source": [
    "# --- Cross-validation Scores ---\n",
    "cv_rf = cross_val_score(rf_model, X_scaled, y, cv=5)\n",
    "cv_log = cross_val_score(log_model, X_scaled, y, cv=5)\n"
   ]
  },
  {
   "cell_type": "code",
   "execution_count": 14,
   "id": "3d28267d",
   "metadata": {},
   "outputs": [
    {
     "name": "stdout",
     "output_type": "stream",
     "text": [
      "\n",
      "Random Forest CV Accuracy (5-fold): 0.9971\n",
      "Logistic Regression CV Accuracy (5-fold): 0.8459\n"
     ]
    }
   ],
   "source": [
    "print(f\"\\nRandom Forest CV Accuracy (5-fold): {cv_rf.mean():.4f}\")\n",
    "print(f\"Logistic Regression CV Accuracy (5-fold): {cv_log.mean():.4f}\")"
   ]
  }
 ],
 "metadata": {
  "kernelspec": {
   "display_name": "Python 3",
   "language": "python",
   "name": "python3"
  },
  "language_info": {
   "codemirror_mode": {
    "name": "ipython",
    "version": 3
   },
   "file_extension": ".py",
   "mimetype": "text/x-python",
   "name": "python",
   "nbconvert_exporter": "python",
   "pygments_lexer": "ipython3",
   "version": "3.11.9"
  }
 },
 "nbformat": 4,
 "nbformat_minor": 5
}
